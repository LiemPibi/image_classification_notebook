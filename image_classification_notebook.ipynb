{
  "metadata": {
    "kernelspec": {
      "name": "python",
      "display_name": "Python (Pyodide)",
      "language": "python"
    },
    "language_info": {
      "codemirror_mode": {
        "name": "python",
        "version": 3
      },
      "file_extension": ".py",
      "mimetype": "text/x-python",
      "name": "python",
      "nbconvert_exporter": "python",
      "pygments_lexer": "ipython3",
      "version": "3.8"
    }
  },
  "nbformat_minor": 5,
  "nbformat": 4,
  "cells": [
    {
      "id": "5e2448a7-8a2b-4d82-8d80-bccf5df70a81",
      "cell_type": "markdown",
      "source": "# Rock-Paper-Scissors Image Classification\n\nNotebook ini melakukan klasifikasi gambar tangan (rock, paper, scissors) menggunakan CNN (Convolutional Neural Network).\n\n## 1. Import Library",
      "metadata": {}
    },
    {
      "id": "09a61b10-fa64-450d-9497-f070c4e2d33b",
      "cell_type": "code",
      "source": "import os\nimport numpy as np\nimport matplotlib.pyplot as plt\nimport seaborn as sns\n\nimport tensorflow as tf\nfrom tensorflow.keras.preprocessing.image import ImageDataGenerator\nfrom tensorflow.keras.models import Sequential\nfrom tensorflow.keras.layers import Conv2D, MaxPooling2D, Flatten, Dense, Dropout\nfrom sklearn.metrics import classification_report, confusion_matrix",
      "metadata": {
        "trusted": true
      },
      "outputs": [],
      "execution_count": null
    },
    {
      "id": "52592253-6140-42c5-8c3c-0b666f42ca39",
      "cell_type": "markdown",
      "source": "## 2. Persiapan Dataset\nStruktur folder yang digunakan:\ndataset_foto/\n├── rock/\n├── paper/\n└── scissors/",
      "metadata": {}
    },
    {
      "id": "119e7e89-098a-4c83-b84c-eb76da7b0374",
      "cell_type": "code",
      "source": "```python\n# Path dataset\nbase_dir = \"dataset_foto\"\n\n# Parameter gambar\nimg_size = (150, 150)\nbatch_size = 32\n\n# Data augmentation & split\ndatagen = ImageDataGenerator(\n    rescale=1./255,\n    validation_split=0.2,\n    rotation_range=20,\n    zoom_range=0.2,\n    shear_range=0.2,\n    horizontal_flip=True\n)\n\ntrain_gen = datagen.flow_from_directory(\n    base_dir,\n    target_size=img_size,\n    batch_size=batch_size,\n    class_mode='categorical',\n    subset='training'\n)\n\nval_gen = datagen.flow_from_directory(\n    base_dir,\n    target_size=img_size,\n    batch_size=batch_size,\n    class_mode='categorical',\n    subset='validation'\n)\n\nclass_names = list(train_gen.class_indices.keys())\nprint(\"Class indices:\", class_names)",
      "metadata": {
        "trusted": true
      },
      "outputs": [],
      "execution_count": null
    },
    {
      "id": "e923e34e-c1eb-42f2-8caa-d86f4f3318a2",
      "cell_type": "markdown",
      "source": "## 3. Membangun Model CNN",
      "metadata": {}
    },
    {
      "id": "817fb09a-bf52-4f65-bf74-101067a09ebd",
      "cell_type": "code",
      "source": "model = Sequential([\n    Conv2D(32, (3,3), activation='relu', input_shape=(150,150,3)),\n    MaxPooling2D(2,2),\n\n    Conv2D(64, (3,3), activation='relu'),\n    MaxPooling2D(2,2),\n\n    Conv2D(128, (3,3), activation='relu'),\n    MaxPooling2D(2,2),\n\n    Flatten(),\n    Dense(128, activation='relu'),\n    Dropout(0.5),\n    Dense(len(class_names), activation='softmax')\n])\n\nmodel.compile(optimizer='adam',\n              loss='categorical_crossentropy',\n              metrics=['accuracy'])\n\nmodel.summary()",
      "metadata": {
        "trusted": true
      },
      "outputs": [],
      "execution_count": null
    },
    {
      "id": "818ae26d-fd5f-4a1e-bcd7-8c3be72ec6ce",
      "cell_type": "markdown",
      "source": "## 4. Training Model",
      "metadata": {}
    },
    {
      "id": "debfb8c2-42f7-4171-85e4-7ddbec43a704",
      "cell_type": "code",
      "source": "history = model.fit(\n    train_gen,\n    epochs=10,\n    validation_data=val_gen\n)",
      "metadata": {
        "trusted": true
      },
      "outputs": [],
      "execution_count": null
    },
    {
      "id": "eeb62bb8-3ff7-4ab6-9b44-b8a9a9704bdf",
      "cell_type": "markdown",
      "source": "## 5. Visualisasi Hasil Training",
      "metadata": {}
    },
    {
      "id": "61668299-1cf4-42c3-bb88-edef7008a25a",
      "cell_type": "code",
      "source": "plt.figure(figsize=(12,5))\n\nplt.subplot(1,2,1)\nplt.plot(history.history['accuracy'], label='Train Acc')\nplt.plot(history.history['val_accuracy'], label='Val Acc')\nplt.legend()\nplt.title(\"Akurasi\")\n\nplt.subplot(1,2,2)\nplt.plot(history.history['loss'], label='Train Loss')\nplt.plot(history.history['val_loss'], label='Val Loss')\nplt.legend()\nplt.title(\"Loss\")\n\nplt.show()",
      "metadata": {
        "trusted": true
      },
      "outputs": [],
      "execution_count": null
    },
    {
      "id": "4b97b4a3-ba05-4c68-ba8e-5722a786a4b7",
      "cell_type": "markdown",
      "source": "## 6. Evaluasi Model",
      "metadata": {}
    },
    {
      "id": "cf92a514-d9ab-4025-83fc-cc598d00fa21",
      "cell_type": "code",
      "source": "# Evaluasi dengan confusion matrix\nval_gen.reset()\ny_true = val_gen.classes\ny_pred = np.argmax(model.predict(val_gen), axis=1)\n\nprint(classification_report(y_true, y_pred, target_names=class_names))\n\ncm = confusion_matrix(y_true, y_pred)\nplt.figure(figsize=(6,5))\nsns.heatmap(cm, annot=True, fmt='d', cmap='Blues', xticklabels=class_names, yticklabels=class_names)\nplt.xlabel(\"Predicted\")\nplt.ylabel(\"True\")\nplt.title(\"Confusion Matrix\")\nplt.show()",
      "metadata": {
        "trusted": true
      },
      "outputs": [],
      "execution_count": null
    },
    {
      "id": "b410d55e-74bb-4de6-9fac-3d4c8a86e73f",
      "cell_type": "markdown",
      "source": "## 7. Prediksi Gambar Baru",
      "metadata": {}
    },
    {
      "id": "6cc879ae-023e-4bb8-ad59-58164ed729bc",
      "cell_type": "code",
      "source": "from tensorflow.keras.preprocessing import image\n\ndef predict_image(img_path):\n    img = image.load_img(img_path, target_size=img_size)\n    img_array = image.img_to_array(img)/255.0\n    img_array = np.expand_dims(img_array, axis=0)\n\n    prediction = model.predict(img_array)\n    predicted_class = class_names[np.argmax(prediction)]\n    \n    plt.imshow(image.load_img(img_path))\n    plt.axis(\"off\")\n    plt.title(f\"Predicted: {predicted_class}\")\n    plt.show()\n\n# Contoh penggunaan\n# predict_image(\"dataset_foto/rock/rock01.jpg\")",
      "metadata": {
        "trusted": true
      },
      "outputs": [],
      "execution_count": null
    },
    {
      "id": "5f81451b-9fc4-4126-82c8-cf379795351a",
      "cell_type": "markdown",
      "source": "## 8. Simpan Model",
      "metadata": {}
    },
    {
      "id": "1d169ca2-e927-4d2b-820f-3c5d9842ab77",
      "cell_type": "code",
      "source": "model.save(\"rps_model.h5\")\nprint(\"Model disimpan sebagai rps_model.h5\")",
      "metadata": {
        "trusted": true
      },
      "outputs": [],
      "execution_count": null
    }
  ]
}